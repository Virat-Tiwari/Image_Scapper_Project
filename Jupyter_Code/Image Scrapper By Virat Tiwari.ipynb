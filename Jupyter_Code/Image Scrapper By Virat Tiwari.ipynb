{
 "cells": [
  {
   "cell_type": "markdown",
   "id": "6e228079-0f23-4a3f-ad50-23098e94d0e5",
   "metadata": {},
   "source": [
    "# Image Scapper"
   ]
  },
  {
   "cell_type": "markdown",
   "id": "0f870978-6b6a-4c61-8bac-48395df9ce24",
   "metadata": {},
   "source": [
    "Image Scapper - We can easily scrap the image from the google with the help of image scapper"
   ]
  },
  {
   "cell_type": "code",
   "execution_count": 12,
   "id": "c584ad76-38df-4791-ae7d-9fa295103945",
   "metadata": {},
   "outputs": [],
   "source": [
    "import requests\n",
    "from bs4 import BeautifulSoup\n",
    "from urllib.request import urlopen as uReq\n",
    "import logging\n",
    "#import pymongo\n",
    "import os"
   ]
  },
  {
   "cell_type": "code",
   "execution_count": 13,
   "id": "1c66e7e1-dd58-42dd-b53d-ade70b22e31e",
   "metadata": {},
   "outputs": [],
   "source": [
    "save_dir=\"images/\"\n",
    "if not os.path.exists(save_dir):\n",
    "    os.makedirs(save_dir)"
   ]
  },
  {
   "cell_type": "code",
   "execution_count": 14,
   "id": "cbfd792e-0f23-4fa2-8566-b3fe7fcc5c85",
   "metadata": {},
   "outputs": [],
   "source": [
    "headers={\"User-Agent\":\"Mozilla/5.0 (Windows NT 10.0; Win64; x64) AppleWebKit/537.36 (KHTML, like Gecko) Chrome/118.0.0.0 Safari/537.36 Edg/118.0.2088.61\"}"
   ]
  },
  {
   "cell_type": "code",
   "execution_count": 15,
   "id": "354f8ed6-8cc0-48a1-bb77-486bf296bd05",
   "metadata": {},
   "outputs": [],
   "source": [
    "query=\"sudhanshu kumar\"\n",
    "response=requests.get(f\"https://www.google.com/search?q={query}&sca_esv=576780426&tbm=isch&source=lnms&sa=X&sqi=2&ved=2ahUKEwjz0onXhJSCAxWgdmwGHdIFBzEQ_AUoAnoECAIQBA&biw=767&bih=738&dpr=1.25\")"
   ]
  },
  {
   "cell_type": "code",
   "execution_count": 16,
   "id": "7cbf9ac7-3edb-4e2c-96bc-d4f18eb1287d",
   "metadata": {},
   "outputs": [],
   "source": [
    "soup=BeautifulSoup(response.content,\"html.parser\")"
   ]
  },
  {
   "cell_type": "code",
   "execution_count": 17,
   "id": "d3eb7006-08a9-4160-8b1e-c9ef371ad5a6",
   "metadata": {},
   "outputs": [],
   "source": [
    "images_tags=soup.find_all(\"img\")"
   ]
  },
  {
   "cell_type": "code",
   "execution_count": 18,
   "id": "115f1298-ae2d-4dcf-9dfa-4ff572f60106",
   "metadata": {},
   "outputs": [
    {
     "data": {
      "text/plain": [
       "21"
      ]
     },
     "execution_count": 18,
     "metadata": {},
     "output_type": "execute_result"
    }
   ],
   "source": [
    "len(images_tags)"
   ]
  },
  {
   "cell_type": "code",
   "execution_count": 19,
   "id": "638c3085-c81a-4233-b8c5-07581cc5db9a",
   "metadata": {},
   "outputs": [],
   "source": [
    "del images_tags[0]"
   ]
  },
  {
   "cell_type": "code",
   "execution_count": 20,
   "id": "a4469c61-56ef-4658-a7f6-ddd0743efd23",
   "metadata": {},
   "outputs": [
    {
     "ename": "NameError",
     "evalue": "name 'index' is not defined",
     "output_type": "error",
     "traceback": [
      "\u001b[0;31m---------------------------------------------------------------------------\u001b[0m",
      "\u001b[0;31mNameError\u001b[0m                                 Traceback (most recent call last)",
      "Cell \u001b[0;32mIn[20], line 5\u001b[0m\n\u001b[1;32m      3\u001b[0m image_url\u001b[38;5;241m=\u001b[39mi[\u001b[38;5;124m\"\u001b[39m\u001b[38;5;124msrc\u001b[39m\u001b[38;5;124m\"\u001b[39m]\n\u001b[1;32m      4\u001b[0m image_data \u001b[38;5;241m=\u001b[39m requests\u001b[38;5;241m.\u001b[39mget(image_url)\u001b[38;5;241m.\u001b[39mcontent\n\u001b[0;32m----> 5\u001b[0m mydict\u001b[38;5;241m=\u001b[39m{\u001b[38;5;124m\"\u001b[39m\u001b[38;5;124mIndex\u001b[39m\u001b[38;5;124m\"\u001b[39m:\u001b[43mindex\u001b[49m,\u001b[38;5;124m\"\u001b[39m\u001b[38;5;124mImage\u001b[39m\u001b[38;5;124m\"\u001b[39m:image_data}\n\u001b[1;32m      6\u001b[0m img_data\u001b[38;5;241m.\u001b[39mappend(mydict)\n\u001b[1;32m      7\u001b[0m \u001b[38;5;28;01mwith\u001b[39;00m \u001b[38;5;28mopen\u001b[39m(os\u001b[38;5;241m.\u001b[39mpath\u001b[38;5;241m.\u001b[39mjoin(save_directory, \u001b[38;5;124mf\u001b[39m\u001b[38;5;124m\"\u001b[39m\u001b[38;5;132;01m{\u001b[39;00mquery\u001b[38;5;132;01m}\u001b[39;00m\u001b[38;5;124m_\u001b[39m\u001b[38;5;132;01m{\u001b[39;00mimages_tags\u001b[38;5;241m.\u001b[39mindex(images_tags)\u001b[38;5;132;01m}\u001b[39;00m\u001b[38;5;124m.jpg\u001b[39m\u001b[38;5;124m\"\u001b[39m), \u001b[38;5;124m\"\u001b[39m\u001b[38;5;124mwb\u001b[39m\u001b[38;5;124m\"\u001b[39m) \u001b[38;5;28;01mas\u001b[39;00m f:\n",
      "\u001b[0;31mNameError\u001b[0m: name 'index' is not defined"
     ]
    }
   ],
   "source": [
    "img_data_mongo=[]\n",
    "for i in images_tags:\n",
    "    image_url=i[\"src\"]\n",
    "    image_data = requests.get(image_url).content\n",
    "    mydict={\"index\":image_url,\"image\":image_data}\n",
    "    img_data.append(mydict)\n",
    "    with open(os.path.join(save_directory, f\"{query}_{images_tags.index(images_tags)}.jpg\"), \"wb\") as f:\n",
    "        f.write(image_data)\n",
    "# client=pymongo.MongoClient(\"\")\n",
    "# db=client[\"image_scarp\"]\n",
    "# coll_image=db[\"image_scap\"]\n",
    "# coll_image.insert.many(img_data_mongo)"
   ]
  },
  {
   "cell_type": "code",
   "execution_count": null,
   "id": "29d158a8-7e64-49ee-978a-1958d0e27728",
   "metadata": {},
   "outputs": [],
   "source": []
  },
  {
   "cell_type": "code",
   "execution_count": null,
   "id": "950a4a9d-309f-4a18-bfe7-d565416bcff1",
   "metadata": {},
   "outputs": [],
   "source": []
  }
 ],
 "metadata": {
  "kernelspec": {
   "display_name": "Python 3 (ipykernel)",
   "language": "python",
   "name": "python3"
  },
  "language_info": {
   "codemirror_mode": {
    "name": "ipython",
    "version": 3
   },
   "file_extension": ".py",
   "mimetype": "text/x-python",
   "name": "python",
   "nbconvert_exporter": "python",
   "pygments_lexer": "ipython3",
   "version": "3.10.8"
  }
 },
 "nbformat": 4,
 "nbformat_minor": 5
}
